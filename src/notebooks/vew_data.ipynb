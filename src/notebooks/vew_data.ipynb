{
 "cells": [
  {
   "cell_type": "code",
   "execution_count": 21,
   "metadata": {},
   "outputs": [],
   "source": [
    "import pickle\n",
    "import numpy as np\n",
    "import sys\n",
    "import os\n",
    "o_path = os.getcwd()\n",
    "sys.path.append(os.path.dirname(o_path))\n",
    "from models.utils import *\n",
    "%matplotlib inline"
   ]
  },
  {
   "cell_type": "code",
   "execution_count": 14,
   "metadata": {},
   "outputs": [
    {
     "name": "stdout",
     "output_type": "stream",
     "text": [
      "Loading ../../data/source_data/mnist_100/train_images.p from 7 parts...\n",
      "Loading ../../data/source_data/mnist_100/train_images_0.p...\n",
      "Loading ../../data/source_data/mnist_100/train_images_1.p...\n",
      "Loading ../../data/source_data/mnist_100/train_images_2.p...\n",
      "Loading ../../data/source_data/mnist_100/train_images_3.p...\n",
      "Loading ../../data/source_data/mnist_100/train_images_4.p...\n",
      "Loading ../../data/source_data/mnist_100/train_images_5.p...\n",
      "Loading ../../data/source_data/mnist_100/train_images_6.p...\n"
     ]
    },
    {
     "ename": "MemoryError",
     "evalue": "",
     "output_type": "error",
     "traceback": [
      "\u001b[0;31m---------------------------------------------------------------------------\u001b[0m",
      "\u001b[0;31mMemoryError\u001b[0m                               Traceback (most recent call last)",
      "\u001b[0;32m<ipython-input-14-c9f8249d94a0>\u001b[0m in \u001b[0;36m<module>\u001b[0;34m()\u001b[0m\n\u001b[1;32m      1\u001b[0m \u001b[0msave_path\u001b[0m \u001b[0;34m=\u001b[0m \u001b[0;34m'../../data/source_data/mnist_100'\u001b[0m\u001b[0;34m\u001b[0m\u001b[0m\n\u001b[1;32m      2\u001b[0m \u001b[0;34m\u001b[0m\u001b[0m\n\u001b[0;32m----> 3\u001b[0;31m \u001b[0mtrain_imgs_\u001b[0m \u001b[0;34m=\u001b[0m \u001b[0mload_pkls\u001b[0m\u001b[0;34m(\u001b[0m\u001b[0msave_path\u001b[0m\u001b[0;34m,\u001b[0m \u001b[0;34m'train_images'\u001b[0m\u001b[0;34m)\u001b[0m\u001b[0;34m\u001b[0m\u001b[0m\n\u001b[0m\u001b[1;32m      4\u001b[0m \u001b[0mtrain_labels_\u001b[0m \u001b[0;34m=\u001b[0m \u001b[0mload_pkls\u001b[0m\u001b[0;34m(\u001b[0m\u001b[0msave_path\u001b[0m\u001b[0;34m,\u001b[0m \u001b[0;34m'train_labels'\u001b[0m\u001b[0;34m)\u001b[0m\u001b[0;34m\u001b[0m\u001b[0m\n\u001b[1;32m      5\u001b[0m \u001b[0msquare_grid_show_imgs\u001b[0m\u001b[0;34m(\u001b[0m\u001b[0mtrain_imgs_\u001b[0m\u001b[0;34m[\u001b[0m\u001b[0;34m:\u001b[0m\u001b[0;36m25\u001b[0m\u001b[0;34m]\u001b[0m\u001b[0;34m,\u001b[0m \u001b[0mmode\u001b[0m\u001b[0;34m=\u001b[0m\u001b[0;34m'L'\u001b[0m\u001b[0;34m)\u001b[0m\u001b[0;34m\u001b[0m\u001b[0m\n",
      "\u001b[0;32m~/Leander/capsule-tf/src/models/utils.py\u001b[0m in \u001b[0;36mload_pkls\u001b[0;34m(dir_path, file_name, verbose, tl, add_n_batch)\u001b[0m\n\u001b[1;32m     96\u001b[0m         \u001b[0mverbose\u001b[0m\u001b[0;34m=\u001b[0m\u001b[0mverbose\u001b[0m\u001b[0;34m,\u001b[0m\u001b[0;34m\u001b[0m\u001b[0m\n\u001b[1;32m     97\u001b[0m         \u001b[0mtl\u001b[0m\u001b[0;34m=\u001b[0m\u001b[0mtl\u001b[0m\u001b[0;34m,\u001b[0m\u001b[0;34m\u001b[0m\u001b[0m\n\u001b[0;32m---> 98\u001b[0;31m         add_n_batch=add_n_batch)\n\u001b[0m\u001b[1;32m     99\u001b[0m   \u001b[0;32melse\u001b[0m\u001b[0;34m:\u001b[0m\u001b[0;34m\u001b[0m\u001b[0m\n\u001b[1;32m    100\u001b[0m     return load_data_from_pkl(\n",
      "\u001b[0;32m~/Leander/capsule-tf/src/models/utils.py\u001b[0m in \u001b[0;36mload_large_data_from_pkl\u001b[0;34m(data_path, n_parts, verbose, tl, size_batch, add_n_batch)\u001b[0m\n\u001b[1;32m    145\u001b[0m \u001b[0;34m\u001b[0m\u001b[0m\n\u001b[1;32m    146\u001b[0m   \u001b[0;32mif\u001b[0m \u001b[0mverbose\u001b[0m\u001b[0;34m:\u001b[0m\u001b[0;34m\u001b[0m\u001b[0m\n\u001b[0;32m--> 147\u001b[0;31m     \u001b[0mprint\u001b[0m\u001b[0;34m(\u001b[0m\u001b[0;34m'Total Size: {:.4}Gb'\u001b[0m\u001b[0;34m.\u001b[0m\u001b[0mformat\u001b[0m\u001b[0;34m(\u001b[0m\u001b[0mconcat\u001b[0m \u001b[0;34m/\u001b[0m \u001b[0;34m(\u001b[0m\u001b[0;36m10\u001b[0m\u001b[0;34m**\u001b[0m\u001b[0;36m9\u001b[0m\u001b[0;34m)\u001b[0m\u001b[0;34m)\u001b[0m\u001b[0;34m)\u001b[0m\u001b[0;34m\u001b[0m\u001b[0m\n\u001b[0m\u001b[1;32m    148\u001b[0m     \u001b[0mprint\u001b[0m\u001b[0;34m(\u001b[0m\u001b[0;34m'Data Shape: '\u001b[0m\u001b[0;34m,\u001b[0m \u001b[0mconcat\u001b[0m\u001b[0;34m.\u001b[0m\u001b[0mshape\u001b[0m\u001b[0;34m)\u001b[0m\u001b[0;34m\u001b[0m\u001b[0m\n\u001b[1;32m    149\u001b[0m \u001b[0;34m\u001b[0m\u001b[0m\n",
      "\u001b[0;31mMemoryError\u001b[0m: "
     ]
    }
   ],
   "source": [
    "save_path = '../../data/source_data/mnist_100'\n",
    "\n",
    "train_imgs_ = load_pkls(save_path, 'train_images')\n",
    "train_labels_ = load_pkls(save_path, 'train_labels')\n",
    "square_grid_show_imgs(train_imgs_[:25], mode='L')\n",
    "print(train_labels_[:25])"
   ]
  },
  {
   "cell_type": "code",
   "execution_count": 13,
   "metadata": {},
   "outputs": [],
   "source": [
    "def load_pickle(data_path):\n",
    "    with open(data_path, 'rb') as f:\n",
    "        return pickle.load(f)"
   ]
  },
  {
   "cell_type": "code",
   "execution_count": 8,
   "metadata": {},
   "outputs": [],
   "source": [
    "def is_equal(a):\n",
    "    x_bk = load_pickle('../../data/mnist_bk/{}.p'.format(a))\n",
    "    print(x_bk.shape)\n",
    "    x = load_pickle('../../data/preprocessed_data/mnist/{}.p'.format(a))\n",
    "    print(x.shape)\n",
    "    print(a+': ', np.equal(x_bk, x).all())"
   ]
  },
  {
   "cell_type": "code",
   "execution_count": 9,
   "metadata": {},
   "outputs": [
    {
     "name": "stdout",
     "output_type": "stream",
     "text": [
      "(55000, 28, 28, 1)\n",
      "(55000, 28, 28, 1)\n",
      "x_train:  True\n",
      "(10000, 28, 28, 1)\n",
      "(10000, 28, 28, 1)\n",
      "x_test:  True\n",
      "(5000, 28, 28, 1)\n",
      "(5000, 28, 28, 1)\n",
      "x_valid:  True\n",
      "(55000, 10)\n",
      "(55000, 10)\n",
      "y_train:  True\n",
      "(10000, 10)\n",
      "(10000, 10)\n",
      "y_test:  True\n",
      "(5000, 10)\n",
      "(5000, 10)\n",
      "y_valid:  True\n",
      "(55000, 28, 28, 1)\n",
      "(55000, 28, 28, 1)\n",
      "imgs_train:  True\n",
      "(10000, 28, 28, 1)\n",
      "(10000, 28, 28, 1)\n",
      "imgs_test:  True\n",
      "(5000, 28, 28, 1)\n",
      "(5000, 28, 28, 1)\n",
      "imgs_valid:  True\n"
     ]
    }
   ],
   "source": [
    "is_equal('x_train')\n",
    "is_equal('x_test')\n",
    "is_equal('x_valid')\n",
    "is_equal('y_train')\n",
    "is_equal('y_test')\n",
    "is_equal('y_valid')\n",
    "is_equal('imgs_train')\n",
    "is_equal('imgs_test')\n",
    "is_equal('imgs_valid')"
   ]
  },
  {
   "cell_type": "code",
   "execution_count": 10,
   "metadata": {},
   "outputs": [
    {
     "data": {
      "text/plain": [
       "array([7, 2, 1, 0, 4, 1, 4, 9, 5, 9, 0, 6, 9, 0, 1, 5, 9, 7, 3, 4, 9, 6, 6,\n",
       "       5, 4, 0, 7, 4, 0, 1, 3, 1, 3, 4, 7, 2, 7, 1, 2, 1, 1, 7, 4, 2, 3, 5,\n",
       "       1, 2, 4, 4, 6, 3, 5, 5, 6, 0, 4, 1, 9, 5, 7, 8, 9, 3, 7, 4, 6, 4, 3,\n",
       "       0, 7, 0, 2, 9, 1, 7, 3, 2, 9, 7, 7, 6, 2, 7, 8, 4, 7, 3, 6, 1, 3, 6,\n",
       "       9, 3, 1, 4, 1, 7, 6, 9])"
      ]
     },
     "execution_count": 10,
     "metadata": {},
     "output_type": "execute_result"
    }
   ],
   "source": [
    "y = np.argmax(load_pickle('../../data/mnist_bk/y_test.p'), axis=-1)\n",
    "y[:100]"
   ]
  },
  {
   "cell_type": "code",
   "execution_count": 11,
   "metadata": {},
   "outputs": [
    {
     "data": {
      "text/plain": [
       "array([7, 2, 1, 0, 4, 1, 4, 9, 5, 9, 0, 6, 9, 0, 1, 5, 9, 7, 3, 4, 9, 6, 6,\n",
       "       5, 4, 0, 7, 4, 0, 1, 3, 1, 3, 4, 7, 2, 7, 1, 2, 1, 1, 7, 4, 2, 3, 5,\n",
       "       1, 2, 4, 4, 6, 3, 5, 5, 6, 0, 4, 1, 9, 5, 7, 8, 9, 3, 7, 4, 6, 4, 3,\n",
       "       0, 7, 0, 2, 9, 1, 7, 3, 2, 9, 7, 7, 6, 2, 7, 8, 4, 7, 3, 6, 1, 3, 6,\n",
       "       9, 3, 1, 4, 1, 7, 6, 9])"
      ]
     },
     "execution_count": 11,
     "metadata": {},
     "output_type": "execute_result"
    }
   ],
   "source": [
    "y = np.argmax(load_pickle('../../data/preprocessed_data/mnist/y_test.p'), axis=-1)\n",
    "y[:100]"
   ]
  },
  {
   "cell_type": "code",
   "execution_count": 12,
   "metadata": {},
   "outputs": [
    {
     "data": {
      "text/plain": [
       "array([7, 2, 1, 0, 4, 1, 4, 9, 5, 9, 0, 6, 9, 0, 1, 5, 9, 7, 3, 4, 9, 6, 6,\n",
       "       5, 4, 0, 7, 4, 0, 1, 3, 1, 3, 4, 7, 2, 7, 1, 2, 1, 1, 7, 4, 2, 3, 5,\n",
       "       1, 2, 4, 4, 6, 3, 5, 5, 6, 0, 4, 1, 9, 5, 7, 8, 9, 3, 7, 4, 6, 4, 3,\n",
       "       0, 7, 0, 2, 9, 1, 7, 3, 2, 9, 7, 7, 6, 2, 7, 8, 4, 7, 3, 6, 1, 3, 6,\n",
       "       9, 3, 1, 4, 1, 7, 6, 9], dtype=uint8)"
      ]
     },
     "execution_count": 12,
     "metadata": {},
     "output_type": "execute_result"
    }
   ],
   "source": [
    "y = load_pickle('../../data/source_data/mnist/test_labels.p')\n",
    "y[:100]"
   ]
  },
  {
   "cell_type": "code",
   "execution_count": null,
   "metadata": {},
   "outputs": [],
   "source": [
    "def is_equal(a):\n",
    "    x_bk = load_pickle('../../data/source_data/{}.p'.format(a))\n",
    "    print(x_bk.shape)\n",
    "    x = load_pickle('../../data/preprocessed_data/mnist/{}.p'.format(a))\n",
    "    print(a+': ', np.equal(x_bk, x).all())"
   ]
  }
 ],
 "metadata": {
  "kernelspec": {
   "display_name": "Python 3",
   "language": "python",
   "name": "python3"
  },
  "language_info": {
   "codemirror_mode": {
    "name": "ipython",
    "version": 3
   },
   "file_extension": ".py",
   "mimetype": "text/x-python",
   "name": "python",
   "nbconvert_exporter": "python",
   "pygments_lexer": "ipython3",
   "version": "3.6.2"
  }
 },
 "nbformat": 4,
 "nbformat_minor": 2
}
