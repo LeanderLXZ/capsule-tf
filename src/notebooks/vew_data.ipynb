{
 "cells": [
  {
   "cell_type": "code",
   "execution_count": 1,
   "metadata": {},
   "outputs": [],
   "source": [
    "import pickle\n",
    "import numpy as np\n",
    "import sys\n",
    "import os\n",
    "o_path = os.getcwd()\n",
    "sys.path.append(os.path.dirname(o_path))\n",
    "from models.utils import *\n",
    "%matplotlib inline"
   ]
  },
  {
   "cell_type": "code",
   "execution_count": 2,
   "metadata": {},
   "outputs": [
    {
     "name": "stdout",
     "output_type": "stream",
     "text": [
      "Loading ../../data/source_data/mnist_100/train_images.p from 7 parts...\n",
      "Loading ../../data/source_data/mnist_100/train_images_0.p...\n",
      "Loading ../../data/source_data/mnist_100/train_images_1.p...\n",
      "Loading ../../data/source_data/mnist_100/train_images_2.p...\n",
      "Loading ../../data/source_data/mnist_100/train_images_3.p...\n",
      "Loading ../../data/source_data/mnist_100/train_images_4.p...\n",
      "Loading ../../data/source_data/mnist_100/train_images_5.p...\n",
      "Loading ../../data/source_data/mnist_100/train_images_6.p...\n",
      "Total Size: 11.29Gb\n",
      "Data Shape:  (450000, 56, 56, 1)\n",
      "Loading ../../data/source_data/mnist_100/train_labels.p...\n"
     ]
    },
    {
     "data": {
      "image/png": "[encoded data removed]",
      "text/plain": [
       "<matplotlib.figure.Figure at 0x7fae27e20ac8>"
      ]
     },
     "metadata": {},
     "output_type": "display_data"
    },
    {
     "name": "stdout",
     "output_type": "stream",
     "text": [
      "[96 37 94 31 96 60 52 96 25 15 69 90 57 25 25 83 46 85 72 61 74 98 15 74 23]\n"
     ]
    }
   ],
   "source": [
    "save_path = '../../data/source_data/mnist_100'\n",
    "\n",
    "train_imgs_ = load_pkls(save_path, 'train_images')\n",
    "train_labels_ = load_pkls(save_path, 'train_labels')\n",
    "square_grid_show_imgs(train_imgs_[:25], mode='L')\n",
    "print(train_labels_[:25])"
   ]
  },
  {
   "cell_type": "code",
   "execution_count": 13,
   "metadata": {},
   "outputs": [],
   "source": [
    "def load_pickle(data_path):\n",
    "    with open(data_path, 'rb') as f:\n",
    "        return pickle.load(f)"
   ]
  },
  {
   "cell_type": "code",
   "execution_count": 8,
   "metadata": {},
   "outputs": [],
   "source": [
    "def is_equal(a):\n",
    "    x_bk = load_pickle('../../data/mnist_bk/{}.p'.format(a))\n",
    "    print(x_bk.shape)\n",
    "    x = load_pickle('../../data/preprocessed_data/mnist/{}.p'.format(a))\n",
    "    print(x.shape)\n",
    "    print(a+': ', np.equal(x_bk, x).all())"
   ]
  },
  {
   "cell_type": "code",
   "execution_count": 9,
   "metadata": {},
   "outputs": [
    {
     "name": "stdout",
     "output_type": "stream",
     "text": [
      "(55000, 28, 28, 1)\n",
      "(55000, 28, 28, 1)\n",
      "x_train:  True\n",
      "(10000, 28, 28, 1)\n",
      "(10000, 28, 28, 1)\n",
      "x_test:  True\n",
      "(5000, 28, 28, 1)\n",
      "(5000, 28, 28, 1)\n",
      "x_valid:  True\n",
      "(55000, 10)\n",
      "(55000, 10)\n",
      "y_train:  True\n",
      "(10000, 10)\n",
      "(10000, 10)\n",
      "y_test:  True\n",
      "(5000, 10)\n",
      "(5000, 10)\n",
      "y_valid:  True\n",
      "(55000, 28, 28, 1)\n",
      "(55000, 28, 28, 1)\n",
      "imgs_train:  True\n",
      "(10000, 28, 28, 1)\n",
      "(10000, 28, 28, 1)\n",
      "imgs_test:  True\n",
      "(5000, 28, 28, 1)\n",
      "(5000, 28, 28, 1)\n",
      "imgs_valid:  True\n"
     ]
    }
   ],
   "source": [
    "is_equal('x_train')\n",
    "is_equal('x_test')\n",
    "is_equal('x_valid')\n",
    "is_equal('y_train')\n",
    "is_equal('y_test')\n",
    "is_equal('y_valid')\n",
    "is_equal('imgs_train')\n",
    "is_equal('imgs_test')\n",
    "is_equal('imgs_valid')"
   ]
  },
  {
   "cell_type": "code",
   "execution_count": 10,
   "metadata": {},
   "outputs": [
    {
     "data": {
      "text/plain": [
       "array([7, 2, 1, 0, 4, 1, 4, 9, 5, 9, 0, 6, 9, 0, 1, 5, 9, 7, 3, 4, 9, 6, 6,\n",
       "       5, 4, 0, 7, 4, 0, 1, 3, 1, 3, 4, 7, 2, 7, 1, 2, 1, 1, 7, 4, 2, 3, 5,\n",
       "       1, 2, 4, 4, 6, 3, 5, 5, 6, 0, 4, 1, 9, 5, 7, 8, 9, 3, 7, 4, 6, 4, 3,\n",
       "       0, 7, 0, 2, 9, 1, 7, 3, 2, 9, 7, 7, 6, 2, 7, 8, 4, 7, 3, 6, 1, 3, 6,\n",
       "       9, 3, 1, 4, 1, 7, 6, 9])"
      ]
     },
     "execution_count": 10,
     "metadata": {},
     "output_type": "execute_result"
    }
   ],
   "source": [
    "y = np.argmax(load_pickle('../../data/mnist_bk/y_test.p'), axis=-1)\n",
    "y[:100]"
   ]
  },
  {
   "cell_type": "code",
   "execution_count": 11,
   "metadata": {},
   "outputs": [
    {
     "data": {
      "text/plain": [
       "array([7, 2, 1, 0, 4, 1, 4, 9, 5, 9, 0, 6, 9, 0, 1, 5, 9, 7, 3, 4, 9, 6, 6,\n",
       "       5, 4, 0, 7, 4, 0, 1, 3, 1, 3, 4, 7, 2, 7, 1, 2, 1, 1, 7, 4, 2, 3, 5,\n",
       "       1, 2, 4, 4, 6, 3, 5, 5, 6, 0, 4, 1, 9, 5, 7, 8, 9, 3, 7, 4, 6, 4, 3,\n",
       "       0, 7, 0, 2, 9, 1, 7, 3, 2, 9, 7, 7, 6, 2, 7, 8, 4, 7, 3, 6, 1, 3, 6,\n",
       "       9, 3, 1, 4, 1, 7, 6, 9])"
      ]
     },
     "execution_count": 11,
     "metadata": {},
     "output_type": "execute_result"
    }
   ],
   "source": [
    "y = np.argmax(load_pickle('../../data/preprocessed_data/mnist/y_test.p'), axis=-1)\n",
    "y[:100]"
   ]
  },
  {
   "cell_type": "code",
   "execution_count": 12,
   "metadata": {},
   "outputs": [
    {
     "data": {
      "text/plain": [
       "array([7, 2, 1, 0, 4, 1, 4, 9, 5, 9, 0, 6, 9, 0, 1, 5, 9, 7, 3, 4, 9, 6, 6,\n",
       "       5, 4, 0, 7, 4, 0, 1, 3, 1, 3, 4, 7, 2, 7, 1, 2, 1, 1, 7, 4, 2, 3, 5,\n",
       "       1, 2, 4, 4, 6, 3, 5, 5, 6, 0, 4, 1, 9, 5, 7, 8, 9, 3, 7, 4, 6, 4, 3,\n",
       "       0, 7, 0, 2, 9, 1, 7, 3, 2, 9, 7, 7, 6, 2, 7, 8, 4, 7, 3, 6, 1, 3, 6,\n",
       "       9, 3, 1, 4, 1, 7, 6, 9], dtype=uint8)"
      ]
     },
     "execution_count": 12,
     "metadata": {},
     "output_type": "execute_result"
    }
   ],
   "source": [
    "y = load_pickle('../../data/source_data/mnist/test_labels.p')\n",
    "y[:100]"
   ]
  },
  {
   "cell_type": "code",
   "execution_count": null,
   "metadata": {},
   "outputs": [],
   "source": [
    "def is_equal(a):\n",
    "    x_bk = load_pickle('../../data/source_data/{}.p'.format(a))\n",
    "    print(x_bk.shape)\n",
    "    x = load_pickle('../../data/preprocessed_data/mnist/{}.p'.format(a))\n",
    "    print(a+': ', np.equal(x_bk, x).all())"
   ]
  }
 ],
 "metadata": {
  "kernelspec": {
   "display_name": "Python 3",
   "language": "python",
   "name": "python3"
  },
  "language_info": {
   "codemirror_mode": {
    "name": "ipython",
    "version": 3
   },
   "file_extension": ".py",
   "mimetype": "text/x-python",
   "name": "python",
   "nbconvert_exporter": "python",
   "pygments_lexer": "ipython3",
   "version": "3.6.2"
  }
 },
 "nbformat": 4,
 "nbformat_minor": 2
}
