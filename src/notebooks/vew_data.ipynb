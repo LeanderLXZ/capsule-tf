{
 "cells": [
  {
   "cell_type": "code",
   "execution_count": 1,
   "metadata": {},
   "outputs": [],
   "source": [
    "import pickle\n",
    "import numpy as np"
   ]
  },
  {
   "cell_type": "code",
   "execution_count": 2,
   "metadata": {},
   "outputs": [],
   "source": [
    "def load_pickle(data_path):\n",
    "    with open(data_path, 'rb') as f:\n",
    "        return pickle.load(f)"
   ]
  },
  {
   "cell_type": "code",
   "execution_count": 83,
   "metadata": {},
   "outputs": [],
   "source": [
    "def is_equal(a):\n",
    "    x_bk = load_pickle('../../data/mnist_bk/{}.p'.format(a))\n",
    "    print(x_bk.shape)\n",
    "    x = load_pickle('../../data/preprocessed_data/mnist/{}.p'.format(a))\n",
    "    print(x.shape)\n",
    "    print(a+': ', np.equal(x_bk, x).all())"
   ]
  },
  {
   "cell_type": "code",
   "execution_count": 84,
   "metadata": {},
   "outputs": [
    {
     "name": "stdout",
     "output_type": "stream",
     "text": [
      "(55000, 28, 28, 1)\n",
      "(55000, 28, 28, 1)\n",
      "x_train:  False\n",
      "(10000, 28, 28, 1)\n",
      "(10000, 28, 28, 1)\n",
      "x_test:  False\n",
      "(5000, 28, 28, 1)\n",
      "(5000, 28, 28, 1)\n",
      "x_valid:  False\n",
      "(55000, 10)\n",
      "(55000, 10)\n",
      "y_train:  False\n",
      "(10000, 10)\n",
      "(10000, 10)\n",
      "y_test:  False\n",
      "(5000, 10)\n",
      "(5000, 10)\n",
      "y_valid:  False\n",
      "(55000, 28, 28, 1)\n"
     ]
    },
    {
     "ename": "FileNotFoundError",
     "evalue": "[Errno 2] No such file or directory: '../../data/preprocessed_data/mnist/imgs_train.p'",
     "output_type": "error",
     "traceback": [
      "\u001b[0;31m---------------------------------------------------------------------------\u001b[0m",
      "\u001b[0;31mFileNotFoundError\u001b[0m                         Traceback (most recent call last)",
      "\u001b[0;32m<ipython-input-84-9e9be5cbc15d>\u001b[0m in \u001b[0;36m<module>\u001b[0;34m()\u001b[0m\n\u001b[1;32m      5\u001b[0m \u001b[0mis_equal\u001b[0m\u001b[0;34m(\u001b[0m\u001b[0;34m'y_test'\u001b[0m\u001b[0;34m)\u001b[0m\u001b[0;34m\u001b[0m\u001b[0m\n\u001b[1;32m      6\u001b[0m \u001b[0mis_equal\u001b[0m\u001b[0;34m(\u001b[0m\u001b[0;34m'y_valid'\u001b[0m\u001b[0;34m)\u001b[0m\u001b[0;34m\u001b[0m\u001b[0m\n\u001b[0;32m----> 7\u001b[0;31m \u001b[0mis_equal\u001b[0m\u001b[0;34m(\u001b[0m\u001b[0;34m'imgs_train'\u001b[0m\u001b[0;34m)\u001b[0m\u001b[0;34m\u001b[0m\u001b[0m\n\u001b[0m\u001b[1;32m      8\u001b[0m \u001b[0mis_equal\u001b[0m\u001b[0;34m(\u001b[0m\u001b[0;34m'imgs_test'\u001b[0m\u001b[0;34m)\u001b[0m\u001b[0;34m\u001b[0m\u001b[0m\n\u001b[1;32m      9\u001b[0m \u001b[0mis_equal\u001b[0m\u001b[0;34m(\u001b[0m\u001b[0;34m'imgs_valid'\u001b[0m\u001b[0;34m)\u001b[0m\u001b[0;34m\u001b[0m\u001b[0m\n",
      "\u001b[0;32m<ipython-input-83-5bfeac10cc4c>\u001b[0m in \u001b[0;36mis_equal\u001b[0;34m(a)\u001b[0m\n\u001b[1;32m      2\u001b[0m     \u001b[0mx_bk\u001b[0m \u001b[0;34m=\u001b[0m \u001b[0mload_pickle\u001b[0m\u001b[0;34m(\u001b[0m\u001b[0;34m'../../data/mnist_bk/{}.p'\u001b[0m\u001b[0;34m.\u001b[0m\u001b[0mformat\u001b[0m\u001b[0;34m(\u001b[0m\u001b[0ma\u001b[0m\u001b[0;34m)\u001b[0m\u001b[0;34m)\u001b[0m\u001b[0;34m\u001b[0m\u001b[0m\n\u001b[1;32m      3\u001b[0m     \u001b[0mprint\u001b[0m\u001b[0;34m(\u001b[0m\u001b[0mx_bk\u001b[0m\u001b[0;34m.\u001b[0m\u001b[0mshape\u001b[0m\u001b[0;34m)\u001b[0m\u001b[0;34m\u001b[0m\u001b[0m\n\u001b[0;32m----> 4\u001b[0;31m     \u001b[0mx\u001b[0m \u001b[0;34m=\u001b[0m \u001b[0mload_pickle\u001b[0m\u001b[0;34m(\u001b[0m\u001b[0;34m'../../data/preprocessed_data/mnist/{}.p'\u001b[0m\u001b[0;34m.\u001b[0m\u001b[0mformat\u001b[0m\u001b[0;34m(\u001b[0m\u001b[0ma\u001b[0m\u001b[0;34m)\u001b[0m\u001b[0;34m)\u001b[0m\u001b[0;34m\u001b[0m\u001b[0m\n\u001b[0m\u001b[1;32m      5\u001b[0m     \u001b[0mprint\u001b[0m\u001b[0;34m(\u001b[0m\u001b[0mx\u001b[0m\u001b[0;34m.\u001b[0m\u001b[0mshape\u001b[0m\u001b[0;34m)\u001b[0m\u001b[0;34m\u001b[0m\u001b[0m\n\u001b[1;32m      6\u001b[0m     \u001b[0mprint\u001b[0m\u001b[0;34m(\u001b[0m\u001b[0ma\u001b[0m\u001b[0;34m+\u001b[0m\u001b[0;34m': '\u001b[0m\u001b[0;34m,\u001b[0m \u001b[0mnp\u001b[0m\u001b[0;34m.\u001b[0m\u001b[0mequal\u001b[0m\u001b[0;34m(\u001b[0m\u001b[0mx_bk\u001b[0m\u001b[0;34m,\u001b[0m \u001b[0mx\u001b[0m\u001b[0;34m)\u001b[0m\u001b[0;34m.\u001b[0m\u001b[0mall\u001b[0m\u001b[0;34m(\u001b[0m\u001b[0;34m)\u001b[0m\u001b[0;34m)\u001b[0m\u001b[0;34m\u001b[0m\u001b[0m\n",
      "\u001b[0;32m<ipython-input-2-258b460c404d>\u001b[0m in \u001b[0;36mload_pickle\u001b[0;34m(data_path)\u001b[0m\n\u001b[1;32m      1\u001b[0m \u001b[0;32mdef\u001b[0m \u001b[0mload_pickle\u001b[0m\u001b[0;34m(\u001b[0m\u001b[0mdata_path\u001b[0m\u001b[0;34m)\u001b[0m\u001b[0;34m:\u001b[0m\u001b[0;34m\u001b[0m\u001b[0m\n\u001b[0;32m----> 2\u001b[0;31m     \u001b[0;32mwith\u001b[0m \u001b[0mopen\u001b[0m\u001b[0;34m(\u001b[0m\u001b[0mdata_path\u001b[0m\u001b[0;34m,\u001b[0m \u001b[0;34m'rb'\u001b[0m\u001b[0;34m)\u001b[0m \u001b[0;32mas\u001b[0m \u001b[0mf\u001b[0m\u001b[0;34m:\u001b[0m\u001b[0;34m\u001b[0m\u001b[0m\n\u001b[0m\u001b[1;32m      3\u001b[0m         \u001b[0;32mreturn\u001b[0m \u001b[0mpickle\u001b[0m\u001b[0;34m.\u001b[0m\u001b[0mload\u001b[0m\u001b[0;34m(\u001b[0m\u001b[0mf\u001b[0m\u001b[0;34m)\u001b[0m\u001b[0;34m\u001b[0m\u001b[0m\n",
      "\u001b[0;31mFileNotFoundError\u001b[0m: [Errno 2] No such file or directory: '../../data/preprocessed_data/mnist/imgs_train.p'"
     ]
    }
   ],
   "source": [
    "is_equal('x_train')\n",
    "is_equal('x_test')\n",
    "is_equal('x_valid')\n",
    "is_equal('y_train')\n",
    "is_equal('y_test')\n",
    "is_equal('y_valid')\n",
    "is_equal('imgs_train')\n",
    "is_equal('imgs_test')\n",
    "is_equal('imgs_valid')"
   ]
  },
  {
   "cell_type": "code",
   "execution_count": 85,
   "metadata": {},
   "outputs": [
    {
     "data": {
      "text/plain": [
       "array([9, 2, 3, 8, 6, 2, 4, 0, 9, 0, 8, 6, 3, 3, 3, 3, 6, 1, 7, 0, 0, 6, 3,\n",
       "       5, 1, 7, 9, 4, 5, 0, 9, 6, 7, 0, 5, 6, 9, 7, 5, 9, 2, 5, 7, 4, 8, 8,\n",
       "       6, 2, 0, 8, 7, 7, 6, 9, 0, 7, 8, 3, 7, 2, 4, 4, 0, 5, 6, 7, 7, 9, 5,\n",
       "       1, 8, 8, 6, 2, 8, 8, 5, 9, 7, 3, 2, 4, 0, 5, 4, 7, 9, 4, 2, 0, 1, 7,\n",
       "       0, 5, 6, 0, 5, 4, 7, 7])"
      ]
     },
     "execution_count": 85,
     "metadata": {},
     "output_type": "execute_result"
    }
   ],
   "source": [
    "y = np.argmax(load_pickle('../../data/mnist_bk/y_test.p'), axis=-1)\n",
    "y[:100]"
   ]
  },
  {
   "cell_type": "code",
   "execution_count": 86,
   "metadata": {},
   "outputs": [
    {
     "data": {
      "text/plain": [
       "array([8, 7, 1, 7, 1, 2, 1, 9, 5, 4, 5, 6, 3, 2, 0, 7, 6, 4, 6, 4, 5, 7, 8,\n",
       "       9, 8, 7, 4, 3, 9, 4, 2, 2, 9, 7, 6, 7, 1, 2, 8, 3, 0, 6, 4, 0, 8, 7,\n",
       "       8, 2, 9, 0, 4, 3, 4, 0, 7, 0, 7, 4, 6, 1, 9, 7, 2, 8, 8, 0, 1, 0, 5,\n",
       "       1, 5, 1, 4, 9, 4, 8, 7, 3, 7, 8, 9, 1, 4, 4, 0, 2, 5, 7, 7, 5, 3, 0,\n",
       "       6, 2, 4, 1, 6, 8, 6, 9])"
      ]
     },
     "execution_count": 86,
     "metadata": {},
     "output_type": "execute_result"
    }
   ],
   "source": [
    "y = np.argmax(load_pickle('../../data/preprocessed_data/mnist/y_test.p'), axis=-1)\n",
    "y[:100]"
   ]
  },
  {
   "cell_type": "code",
   "execution_count": 87,
   "metadata": {},
   "outputs": [
    {
     "data": {
      "text/plain": [
       "array([7, 2, 1, 0, 4, 1, 4, 9, 5, 9, 0, 6, 9, 0, 1, 5, 9, 7, 3, 4, 9, 6, 6,\n",
       "       5, 4, 0, 7, 4, 0, 1, 3, 1, 3, 4, 7, 2, 7, 1, 2, 1, 1, 7, 4, 2, 3, 5,\n",
       "       1, 2, 4, 4, 6, 3, 5, 5, 6, 0, 4, 1, 9, 5, 7, 8, 9, 3, 7, 4, 6, 4, 3,\n",
       "       0, 7, 0, 2, 9, 1, 7, 3, 2, 9, 7, 7, 6, 2, 7, 8, 4, 7, 3, 6, 1, 3, 6,\n",
       "       9, 3, 1, 4, 1, 7, 6, 9], dtype=uint8)"
      ]
     },
     "execution_count": 87,
     "metadata": {},
     "output_type": "execute_result"
    }
   ],
   "source": [
    "y = load_pickle('../../data/source_data/mnist/test_labels.p')\n",
    "y[:100]"
   ]
  },
  {
   "cell_type": "code",
   "execution_count": null,
   "metadata": {},
   "outputs": [],
   "source": [
    "def is_equal(a):\n",
    "    x_bk = load_pickle('../../data/source_data/{}.p'.format(a))\n",
    "    print(x_bk.shape)\n",
    "    x = load_pickle('../../data/preprocessed_data/mnist/{}.p'.format(a))\n",
    "    print(a+': ', np.equal(x_bk, x).all())"
   ]
  }
 ],
 "metadata": {
  "kernelspec": {
   "display_name": "Python 3",
   "language": "python",
   "name": "python3"
  },
  "language_info": {
   "codemirror_mode": {
    "name": "ipython",
    "version": 3
   },
   "file_extension": ".py",
   "mimetype": "text/x-python",
   "name": "python",
   "nbconvert_exporter": "python",
   "pygments_lexer": "ipython3",
   "version": "3.6.2"
  }
 },
 "nbformat": 4,
 "nbformat_minor": 2
}
