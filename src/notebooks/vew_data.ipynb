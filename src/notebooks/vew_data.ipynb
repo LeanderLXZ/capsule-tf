{
 "cells": [
  {
   "cell_type": "code",
   "execution_count": 1,
   "metadata": {},
   "outputs": [],
   "source": [
    "import pickle\n",
    "import numpy as np"
   ]
  },
  {
   "cell_type": "code",
   "execution_count": 2,
   "metadata": {},
   "outputs": [],
   "source": [
    "def load_pickle(data_path):\n",
    "    with open(data_path, 'rb') as f:\n",
    "        return pickle.load(f)"
   ]
  },
  {
   "cell_type": "code",
   "execution_count": 3,
   "metadata": {},
   "outputs": [],
   "source": [
    "def is_equal(a):\n",
    "    x_bk = load_pickle('../../data/mnist_bk/{}.p'.format(a))\n",
    "    print(x_bk.shape)\n",
    "    x = load_pickle('../../data/preprocessed_data/mnist/{}.p'.format(a))\n",
    "    print(x.shape)\n",
    "    print(a+': ', np.equal(x_bk, x).all())"
   ]
  },
  {
   "cell_type": "code",
   "execution_count": 4,
   "metadata": {},
   "outputs": [
    {
     "name": "stdout",
     "output_type": "stream",
     "text": [
      "(55000, 28, 28, 1)\n",
      "(55000, 28, 28, 1)\n",
      "x_train:  True\n",
      "(10000, 28, 28, 1)\n",
      "(10000, 28, 28, 1)\n",
      "x_test:  True\n",
      "(5000, 28, 28, 1)\n",
      "(5000, 28, 28, 1)\n",
      "x_valid:  True\n",
      "(55000, 10)\n",
      "(55000, 10)\n",
      "y_train:  True\n",
      "(10000, 10)\n",
      "(10000, 10)\n",
      "y_test:  True\n",
      "(5000, 10)\n",
      "(5000, 10)\n",
      "y_valid:  True\n",
      "(55000, 28, 28, 1)\n",
      "(55000, 28, 28, 1)\n",
      "imgs_train:  True\n",
      "(10000, 28, 28, 1)\n",
      "(10000, 28, 28, 1)\n",
      "imgs_test:  True\n",
      "(5000, 28, 28, 1)\n",
      "(5000, 28, 28, 1)\n",
      "imgs_valid:  True\n"
     ]
    }
   ],
   "source": [
    "is_equal('x_train')\n",
    "is_equal('x_test')\n",
    "is_equal('x_valid')\n",
    "is_equal('y_train')\n",
    "is_equal('y_test')\n",
    "is_equal('y_valid')\n",
    "is_equal('imgs_train')\n",
    "is_equal('imgs_test')\n",
    "is_equal('imgs_valid')"
   ]
  },
  {
   "cell_type": "code",
   "execution_count": 5,
   "metadata": {},
   "outputs": [
    {
     "data": {
      "text/plain": [
       "array([7, 2, 1, 0, 4, 1, 4, 9, 5, 9, 0, 6, 9, 0, 1, 5, 9, 7, 3, 4, 9, 6, 6,\n",
       "       5, 4, 0, 7, 4, 0, 1, 3, 1, 3, 4, 7, 2, 7, 1, 2, 1, 1, 7, 4, 2, 3, 5,\n",
       "       1, 2, 4, 4, 6, 3, 5, 5, 6, 0, 4, 1, 9, 5, 7, 8, 9, 3, 7, 4, 6, 4, 3,\n",
       "       0, 7, 0, 2, 9, 1, 7, 3, 2, 9, 7, 7, 6, 2, 7, 8, 4, 7, 3, 6, 1, 3, 6,\n",
       "       9, 3, 1, 4, 1, 7, 6, 9])"
      ]
     },
     "execution_count": 5,
     "metadata": {},
     "output_type": "execute_result"
    }
   ],
   "source": [
    "y = np.argmax(load_pickle('../../data/mnist_bk/y_test.p'), axis=-1)\n",
    "y[:100]"
   ]
  },
  {
   "cell_type": "code",
   "execution_count": 6,
   "metadata": {},
   "outputs": [
    {
     "data": {
      "text/plain": [
       "array([7, 2, 1, 0, 4, 1, 4, 9, 5, 9, 0, 6, 9, 0, 1, 5, 9, 7, 3, 4, 9, 6, 6,\n",
       "       5, 4, 0, 7, 4, 0, 1, 3, 1, 3, 4, 7, 2, 7, 1, 2, 1, 1, 7, 4, 2, 3, 5,\n",
       "       1, 2, 4, 4, 6, 3, 5, 5, 6, 0, 4, 1, 9, 5, 7, 8, 9, 3, 7, 4, 6, 4, 3,\n",
       "       0, 7, 0, 2, 9, 1, 7, 3, 2, 9, 7, 7, 6, 2, 7, 8, 4, 7, 3, 6, 1, 3, 6,\n",
       "       9, 3, 1, 4, 1, 7, 6, 9])"
      ]
     },
     "execution_count": 6,
     "metadata": {},
     "output_type": "execute_result"
    }
   ],
   "source": [
    "y = np.argmax(load_pickle('../../data/preprocessed_data/mnist/y_test.p'), axis=-1)\n",
    "y[:100]"
   ]
  },
  {
   "cell_type": "code",
   "execution_count": 7,
   "metadata": {},
   "outputs": [
    {
     "data": {
      "text/plain": [
       "array([7, 2, 1, 0, 4, 1, 4, 9, 5, 9, 0, 6, 9, 0, 1, 5, 9, 7, 3, 4, 9, 6, 6,\n",
       "       5, 4, 0, 7, 4, 0, 1, 3, 1, 3, 4, 7, 2, 7, 1, 2, 1, 1, 7, 4, 2, 3, 5,\n",
       "       1, 2, 4, 4, 6, 3, 5, 5, 6, 0, 4, 1, 9, 5, 7, 8, 9, 3, 7, 4, 6, 4, 3,\n",
       "       0, 7, 0, 2, 9, 1, 7, 3, 2, 9, 7, 7, 6, 2, 7, 8, 4, 7, 3, 6, 1, 3, 6,\n",
       "       9, 3, 1, 4, 1, 7, 6, 9], dtype=uint8)"
      ]
     },
     "execution_count": 7,
     "metadata": {},
     "output_type": "execute_result"
    }
   ],
   "source": [
    "y = load_pickle('../../data/source_data/mnist/test_labels.p')\n",
    "y[:100]"
   ]
  },
  {
   "cell_type": "code",
   "execution_count": null,
   "metadata": {},
   "outputs": [],
   "source": [
    "def is_equal(a):\n",
    "    x_bk = load_pickle('../../data/source_data/{}.p'.format(a))\n",
    "    print(x_bk.shape)\n",
    "    x = load_pickle('../../data/preprocessed_data/mnist/{}.p'.format(a))\n",
    "    print(a+': ', np.equal(x_bk, x).all())"
   ]
  }
 ],
 "metadata": {
  "kernelspec": {
   "display_name": "Python 3",
   "language": "python",
   "name": "python3"
  },
  "language_info": {
   "codemirror_mode": {
    "name": "ipython",
    "version": 3
   },
   "file_extension": ".py",
   "mimetype": "text/x-python",
   "name": "python",
   "nbconvert_exporter": "python",
   "pygments_lexer": "ipython3",
   "version": "3.6.2"
  }
 },
 "nbformat": 4,
 "nbformat_minor": 2
}
